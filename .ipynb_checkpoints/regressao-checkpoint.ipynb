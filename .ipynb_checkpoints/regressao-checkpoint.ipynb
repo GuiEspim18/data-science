{
 "cells": [
  {
   "cell_type": "code",
   "execution_count": null,
   "metadata": {},
   "outputs": [],
   "source": [
    "import numpy as np\n",
    "from sklearn.linear_model import LinearRegression\n",
    "import pandas as pd\n",
    "import matplotlib.pyplot as plt"
   ]
  },
  {
   "cell_type": "code",
   "execution_count": null,
   "metadata": {},
   "outputs": [],
   "source": [
    "df = pd.DataFrame([[2,3,4,6,4,40,5],[5,7,9,13,9,81,11]]).T # cria uma tabela contendo cada array como uma coluna e cada item dentro do array uma linha\n",
    "df.columns = ['Km rodados','Valor cobrado'] # dando nome as colunas"
   ]
  },
  {
   "cell_type": "code",
   "execution_count": null,
   "metadata": {},
   "outputs": [],
   "source": [
    "display(df[\"Km rodados\"].mean()) #calcula a média\n",
    "display(df[\"Valor cobrado\"].mean())"
   ]
  },
  {
   "cell_type": "code",
   "execution_count": null,
   "metadata": {},
   "outputs": [],
   "source": [
    "x = df[\"Km rodados\"].iloc[0:5] #pega os 5 primeiros registros da coluna\n",
    "y = df[\"Valor cobrado\"].iloc[0:5]"
   ]
  }
 ],
 "metadata": {
  "language_info": {
   "name": "python"
  },
  "orig_nbformat": 4
 },
 "nbformat": 4,
 "nbformat_minor": 2
}
