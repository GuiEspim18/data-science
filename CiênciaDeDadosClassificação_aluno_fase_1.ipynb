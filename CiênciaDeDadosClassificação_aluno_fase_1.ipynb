{
 "cells": [
  {
   "cell_type": "code",
   "execution_count": null,
   "metadata": {},
   "outputs": [],
   "source": [
    "import pandas as pd\n",
    "import matplotlib.pyplot as plt\n",
    "from sklearn.tree import DecisionTreeClassifier\n",
    "from sklearn.model_selection import train_test_split"
   ]
  },
  {
   "cell_type": "code",
   "execution_count": null,
   "metadata": {},
   "outputs": [],
   "source": [
    "bank = pd.read_csv('bank-full.csv', delimiter=';')\n",
    "#Variável alvo: y -> depósito aprovado"
   ]
  },
  {
   "cell_type": "code",
   "execution_count": null,
   "metadata": {},
   "outputs": [],
   "source": [
    "#Comandos \n",
    "#1 - base[base.campo=='yes']\n",
    "#2 - campo.mean()\n",
    "#3 - base[campo].value_counts\n",
    "#4 - base[campo].unique()"
   ]
  },
  {
   "cell_type": "code",
   "execution_count": 1,
   "metadata": {},
   "outputs": [],
   "source": [
    "#Campos a serem usados\n",
    "#loan: tem empréstimo pessoal?\n",
    "#age: idade\n",
    "#job: tipo de trabalho\n",
    "\n",
    "\n",
    "#1 - Imprima a média de idade das pessoas que pediram empréstimo pessoal. Para isso, cria uma base apenas com pessoas que pediram empréstimo e outra com os que não pediram.\n",
    "#Use o comando 1 e o campo loan\n",
    "#Use o comando 2.\n",
    "\n",
    "#2 - Imprima o número de pessoas por emprego que pediram empréstimo pessoal. Por exemplo, 1684 pessoas que são blue-collar pediram empréstimo e 8048 não pediram.\n",
    "#Coloque isso em uma tabela. Use a base criada na questão 1 e o comando 3.\t\n",
    "\n",
    "#3 - Transforme isso em porcentagem por trabalho. Para isso, crie um campo novo. Por exemplo, usando o exemplo acima, 17% dos funcionários blue_collar tiveram empréstimo\n",
    "# e 83% não tiveram.\n",
    "\n",
    "#4 - Transforme isso em porcentagem por sim/não. Para isso, crie um campo novo. Por exemplo, usando o exemplo acima, 23% dos funcionários que tiveram empréstimo\n",
    "#são funcionários blue_collar e 18% são technician.\n"
   ]
  },
  {
   "cell_type": "code",
   "execution_count": 2,
   "metadata": {},
   "outputs": [],
   "source": [
    "#balance: média de salário anual\n",
    "#5 - Imprima a média de salário anual para quem recebeu o depósito e pra quem não recebeu?\n",
    "#Para isso, use o comando 1 para criar a base de quem recebeu o depósito e de quem não recebeu e o comando 2 para calcular a média."
   ]
  },
  {
   "cell_type": "code",
   "execution_count": 3,
   "metadata": {},
   "outputs": [],
   "source": [
    "#pdays: número de dias que se passou depois de o cliente ter sido contatado em uma campanha anterior (-1 caso ele não tenha sido conctatado anteriormente)\n",
    "#6-Para quem recebeu o depósito e pra quem não recebeu, imprima a média do número de dias que se passou depois de o cliente ter sido contatado em uma campanha anterior.\n",
    "#Para isso, use o comando 1 para criar a base de quem recebeu o depósito e de quem não recebeu(#Se quiser, use as bases criadas na questão 5) e o comando 2 para calcular a média."
   ]
  },
  {
   "cell_type": "code",
   "execution_count": 4,
   "metadata": {},
   "outputs": [],
   "source": [
    "#marital: estado civil\n",
    "#7 - Para cada estado civil, calcule a porcentagem de cada tipo de emprego.\n",
    "#Para criar uma lista de possíveis estados civis, use o comando 4."
   ]
  },
  {
   "cell_type": "code",
   "execution_count": 105,
   "metadata": {},
   "outputs": [],
   "source": [
    "#A partir daqui podemos usar os comandos aprendidos no exercício anterior.\n",
    "\n",
    "#8 - Verifique quais a variáveis categóricas e as dummifique.\n",
    "#9 - Junte com as numéricas e crie a base X.\n",
    "#10 - Crie a base y.\n",
    "#11 - Separe em treino (70%) e teste (30%).\n",
    "#12 - Crie a instância o classificador (árvore de decisão) - DecisionTreeClassifier\n",
    "#13 - Treine o classificador. fit\n",
    "#14 - Faça a predição dos valores do teste e imprima. predict"
   ]
  }
 ],
 "metadata": {
  "kernelspec": {
   "display_name": "base",
   "language": "python",
   "name": "python3"
  },
  "language_info": {
   "codemirror_mode": {
    "name": "ipython",
    "version": 3
   },
   "file_extension": ".py",
   "mimetype": "text/x-python",
   "name": "python",
   "nbconvert_exporter": "python",
   "pygments_lexer": "ipython3",
   "version": "3.11.5"
  }
 },
 "nbformat": 4,
 "nbformat_minor": 2
}
