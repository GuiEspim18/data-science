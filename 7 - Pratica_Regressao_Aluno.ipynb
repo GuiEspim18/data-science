{
 "cells": [
  {
   "cell_type": "code",
   "execution_count": 5,
   "metadata": {},
   "outputs": [],
   "source": [
    "#1 - Importe as bibliotecas necessárias. Comando 1\n",
    "#import ou from biblioteca import função\n",
    "\n",
    "#2 - Leia os dados a partir do csv. Comando 2\n",
    "#base = pd.read(‘nome_do_arquivo.csv’)\n",
    "\n",
    "#3 = Separe X e y. Comandos 3.\n",
    "#   3.1 - y = base[‘campo_a_ser_previsto’] \n",
    "#   3.1 = X = base[[‘campo1’,’campo2’,’campo3’...]]\n",
    "\n",
    "\n",
    "#4 Defina as bases de treino e teste para X e y.\n",
    "#train_test_split\n",
    "\n",
    "#5\n",
    "#Crie uma instância de uma regressão, Use o comando 5.\n",
    "#LinearRegression\n",
    "\n",
    "#6\n",
    "#Treine o modelo usando o comando 6.\n",
    "#fit\n",
    "\n",
    "#7\n",
    "#Imprima na tela o score do modelo. Use o comando 7.\n",
    "#score"
   ]
  }
 ],
 "metadata": {
  "kernelspec": {
   "display_name": "Python 3 (ipykernel)",
   "language": "python",
   "name": "python3"
  },
  "language_info": {
   "codemirror_mode": {
    "name": "ipython",
    "version": 3
   },
   "file_extension": ".py",
   "mimetype": "text/x-python",
   "name": "python",
   "nbconvert_exporter": "python",
   "pygments_lexer": "ipython3",
   "version": "3.9.12"
  }
 },
 "nbformat": 4,
 "nbformat_minor": 4
}
